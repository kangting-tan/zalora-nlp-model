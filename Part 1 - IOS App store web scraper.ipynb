{
 "cells": [
  {
   "cell_type": "markdown",
   "metadata": {},
   "source": [
    "# Scrape IOS data"
   ]
  },
  {
   "cell_type": "code",
   "execution_count": 19,
   "metadata": {
    "scrolled": true
   },
   "outputs": [
    {
     "name": "stdout",
     "output_type": "stream",
     "text": [
      "Requirement already satisfied: app-store-scraper in ./opt/anaconda3/lib/python3.8/site-packages (0.3.5)\n",
      "Requirement already satisfied: requests==2.23.0 in ./opt/anaconda3/lib/python3.8/site-packages (from app-store-scraper) (2.23.0)\n",
      "Requirement already satisfied: certifi>=2017.4.17 in ./opt/anaconda3/lib/python3.8/site-packages (from requests==2.23.0->app-store-scraper) (2020.6.20)\n",
      "Requirement already satisfied: idna<3,>=2.5 in ./opt/anaconda3/lib/python3.8/site-packages (from requests==2.23.0->app-store-scraper) (2.10)\n",
      "Requirement already satisfied: urllib3!=1.25.0,!=1.25.1,<1.26,>=1.21.1 in ./opt/anaconda3/lib/python3.8/site-packages (from requests==2.23.0->app-store-scraper) (1.25.9)\n",
      "Requirement already satisfied: chardet<4,>=3.0.2 in ./opt/anaconda3/lib/python3.8/site-packages (from requests==2.23.0->app-store-scraper) (3.0.4)\n"
     ]
    }
   ],
   "source": [
    "!pip3 install app-store-scraper\n",
    "import pandas as pd\n",
    "import datetime\n",
    "from app_store_scraper import AppStore\n",
    "from pprint import pprint"
   ]
  },
  {
   "cell_type": "markdown",
   "metadata": {},
   "source": [
    "# Change date here, code will scrape reviews after this date: "
   ]
  },
  {
   "cell_type": "code",
   "execution_count": 20,
   "metadata": {},
   "outputs": [],
   "source": [
    "x = datetime.datetime(2021, 3, 23)\n",
    "#year, month, day "
   ]
  },
  {
   "cell_type": "code",
   "execution_count": 21,
   "metadata": {},
   "outputs": [
    {
     "name": "stderr",
     "output_type": "stream",
     "text": [
      "2021-04-08 16:09:07,642 [INFO] Base - Searching for app id\n",
      "2021-04-08 16:09:09,782 [INFO] Base - Initialised: AppStore('sg', 'zalora', 624639017)\n",
      "2021-04-08 16:09:09,782 [INFO] Base - Ready to fetch reviews from: https://apps.apple.com/sg/app/zalora/id624639017\n",
      "2021-04-08 16:09:28,973 [ERROR] Base - Something went wrong: HTTPSConnectionPool(host='amp-api.apps.apple.com', port=443): Max retries exceeded with url: /v1/catalog/sg/apps/624639017/reviews?l=en-GB&offset=0&limit=20&platform=web&additionalPlatforms=appletv%2Cipad%2Ciphone%2Cmac (Caused by ResponseError('too many 429 error responses'))\n",
      "2021-04-08 16:09:28,977 [INFO] Base - [id:624639017] Fetched 0 reviews (0 fetched in total)\n"
     ]
    },
    {
     "name": "stdout",
     "output_type": "stream",
     "text": [
      "[]\n",
      "0\n"
     ]
    }
   ],
   "source": [
    "sg = AppStore(country=\"sg\", app_name=\"zalora\")\n",
    "sg.review(after = x)\n",
    "\n",
    "pprint(sg.reviews)\n",
    "pprint(sg.reviews_count)"
   ]
  },
  {
   "cell_type": "markdown",
   "metadata": {},
   "source": [
    "# Change number in \"range()\" to the number of reviews:"
   ]
  },
  {
   "cell_type": "code",
   "execution_count": 22,
   "metadata": {},
   "outputs": [],
   "source": [
    "lst = []\n",
    "rating = []\n",
    "for a in range(sg.reviews_count):\n",
    "    lst.append(sg.reviews[a]['review'])\n",
    "    rating.append(sg.reviews[a]['rating'])\n",
    "df0 = pd.DataFrame({'review' : lst, 'rating': rating, 'country' : 'sg'})"
   ]
  },
  {
   "cell_type": "code",
   "execution_count": 23,
   "metadata": {},
   "outputs": [
    {
     "name": "stderr",
     "output_type": "stream",
     "text": [
      "2021-04-08 16:09:29,003 [INFO] Base - Searching for app id\n",
      "2021-04-08 16:09:32,130 [INFO] Base - Initialised: AppStore('my', 'zalora', 624639017)\n",
      "2021-04-08 16:09:32,131 [INFO] Base - Ready to fetch reviews from: https://apps.apple.com/my/app/zalora/id624639017\n",
      "2021-04-08 16:09:51,028 [ERROR] Base - Something went wrong: HTTPSConnectionPool(host='amp-api.apps.apple.com', port=443): Max retries exceeded with url: /v1/catalog/my/apps/624639017/reviews?l=en-GB&offset=0&limit=20&platform=web&additionalPlatforms=appletv%2Cipad%2Ciphone%2Cmac (Caused by ResponseError('too many 429 error responses'))\n",
      "2021-04-08 16:09:51,030 [INFO] Base - [id:624639017] Fetched 0 reviews (0 fetched in total)\n"
     ]
    },
    {
     "name": "stdout",
     "output_type": "stream",
     "text": [
      "[]\n",
      "0\n"
     ]
    }
   ],
   "source": [
    "my = AppStore(country=\"my\", app_name=\"zalora\")\n",
    "my.review(after = x)\n",
    "\n",
    "\n",
    "pprint(my.reviews)\n",
    "pprint(my.reviews_count)"
   ]
  },
  {
   "cell_type": "code",
   "execution_count": 24,
   "metadata": {},
   "outputs": [],
   "source": [
    "lst = []\n",
    "rating = []\n",
    "for a in range(my.reviews_count):\n",
    "    lst.append(my.reviews[a]['review'])\n",
    "    rating.append(my.reviews[a]['rating'])\n",
    "df1 = pd.DataFrame({'review' : lst, 'rating': rating, 'country' : 'my'})"
   ]
  },
  {
   "cell_type": "code",
   "execution_count": 25,
   "metadata": {},
   "outputs": [
    {
     "name": "stderr",
     "output_type": "stream",
     "text": [
      "2021-04-08 16:09:51,045 [INFO] Base - Searching for app id\n",
      "2021-04-08 16:09:53,438 [INFO] Base - Initialised: AppStore('hk', 'zalora', 624639017)\n",
      "2021-04-08 16:09:53,438 [INFO] Base - Ready to fetch reviews from: https://apps.apple.com/hk/app/zalora/id624639017\n",
      "2021-04-08 16:10:12,438 [ERROR] Base - Something went wrong: HTTPSConnectionPool(host='amp-api.apps.apple.com', port=443): Max retries exceeded with url: /v1/catalog/hk/apps/624639017/reviews?l=en-GB&offset=0&limit=20&platform=web&additionalPlatforms=appletv%2Cipad%2Ciphone%2Cmac (Caused by ResponseError('too many 429 error responses'))\n",
      "2021-04-08 16:10:12,443 [INFO] Base - [id:624639017] Fetched 0 reviews (0 fetched in total)\n"
     ]
    },
    {
     "name": "stdout",
     "output_type": "stream",
     "text": [
      "[]\n",
      "0\n"
     ]
    }
   ],
   "source": [
    "hk = AppStore(country=\"hk\", app_name=\"zalora\")\n",
    "hk.review(after = x)\n",
    "\n",
    "pprint(hk.reviews)\n",
    "pprint(hk.reviews_count)"
   ]
  },
  {
   "cell_type": "code",
   "execution_count": 26,
   "metadata": {},
   "outputs": [],
   "source": [
    "lst = []\n",
    "rating = []\n",
    "for a in range(hk.reviews_count):\n",
    "    lst.append(hk.reviews[a]['review'])\n",
    "    rating.append(hk.reviews[a]['rating'])\n",
    "df2 = pd.DataFrame({'review' : lst, 'rating': rating, 'country': 'hk'})"
   ]
  },
  {
   "cell_type": "code",
   "execution_count": 27,
   "metadata": {},
   "outputs": [
    {
     "data": {
      "text/html": [
       "<div>\n",
       "<style scoped>\n",
       "    .dataframe tbody tr th:only-of-type {\n",
       "        vertical-align: middle;\n",
       "    }\n",
       "\n",
       "    .dataframe tbody tr th {\n",
       "        vertical-align: top;\n",
       "    }\n",
       "\n",
       "    .dataframe thead th {\n",
       "        text-align: right;\n",
       "    }\n",
       "</style>\n",
       "<table border=\"1\" class=\"dataframe\">\n",
       "  <thead>\n",
       "    <tr style=\"text-align: right;\">\n",
       "      <th></th>\n",
       "      <th>review</th>\n",
       "      <th>rating</th>\n",
       "      <th>country</th>\n",
       "    </tr>\n",
       "  </thead>\n",
       "  <tbody>\n",
       "  </tbody>\n",
       "</table>\n",
       "</div>"
      ],
      "text/plain": [
       "Empty DataFrame\n",
       "Columns: [review, rating, country]\n",
       "Index: []"
      ]
     },
     "execution_count": 27,
     "metadata": {},
     "output_type": "execute_result"
    }
   ],
   "source": [
    "df2"
   ]
  },
  {
   "cell_type": "code",
   "execution_count": 28,
   "metadata": {},
   "outputs": [
    {
     "name": "stderr",
     "output_type": "stream",
     "text": [
      "2021-04-08 16:10:12,501 [INFO] Base - Searching for app id\n",
      "2021-04-08 16:10:16,365 [INFO] Base - Initialised: AppStore('ph', 'zalora', 624639017)\n",
      "2021-04-08 16:10:16,365 [INFO] Base - Ready to fetch reviews from: https://apps.apple.com/ph/app/zalora/id624639017\n",
      "2021-04-08 16:10:35,396 [ERROR] Base - Something went wrong: HTTPSConnectionPool(host='amp-api.apps.apple.com', port=443): Max retries exceeded with url: /v1/catalog/ph/apps/624639017/reviews?l=en-GB&offset=0&limit=20&platform=web&additionalPlatforms=appletv%2Cipad%2Ciphone%2Cmac (Caused by ResponseError('too many 429 error responses'))\n",
      "2021-04-08 16:10:35,398 [INFO] Base - [id:624639017] Fetched 0 reviews (0 fetched in total)\n"
     ]
    },
    {
     "name": "stdout",
     "output_type": "stream",
     "text": [
      "[]\n",
      "0\n"
     ]
    }
   ],
   "source": [
    "ph = AppStore(country=\"ph\", app_name=\"zalora\")\n",
    "ph.review(after = x)\n",
    "\n",
    "pprint(ph.reviews)\n",
    "pprint(ph.reviews_count)"
   ]
  },
  {
   "cell_type": "code",
   "execution_count": 29,
   "metadata": {},
   "outputs": [],
   "source": [
    "lst = []\n",
    "rating = []\n",
    "for a in range(ph.reviews_count):\n",
    "    lst.append(ph.reviews[a]['review'])\n",
    "    rating.append(ph.reviews[a]['rating'])\n",
    "df3 = pd.DataFrame({'review' : lst, 'rating': rating, 'country': 'ph'})"
   ]
  },
  {
   "cell_type": "code",
   "execution_count": 30,
   "metadata": {},
   "outputs": [
    {
     "data": {
      "text/html": [
       "<div>\n",
       "<style scoped>\n",
       "    .dataframe tbody tr th:only-of-type {\n",
       "        vertical-align: middle;\n",
       "    }\n",
       "\n",
       "    .dataframe tbody tr th {\n",
       "        vertical-align: top;\n",
       "    }\n",
       "\n",
       "    .dataframe thead th {\n",
       "        text-align: right;\n",
       "    }\n",
       "</style>\n",
       "<table border=\"1\" class=\"dataframe\">\n",
       "  <thead>\n",
       "    <tr style=\"text-align: right;\">\n",
       "      <th></th>\n",
       "      <th>review</th>\n",
       "      <th>rating</th>\n",
       "      <th>country</th>\n",
       "    </tr>\n",
       "  </thead>\n",
       "  <tbody>\n",
       "  </tbody>\n",
       "</table>\n",
       "</div>"
      ],
      "text/plain": [
       "Empty DataFrame\n",
       "Columns: [review, rating, country]\n",
       "Index: []"
      ]
     },
     "execution_count": 30,
     "metadata": {},
     "output_type": "execute_result"
    }
   ],
   "source": [
    "df3"
   ]
  },
  {
   "cell_type": "code",
   "execution_count": 31,
   "metadata": {},
   "outputs": [
    {
     "name": "stderr",
     "output_type": "stream",
     "text": [
      "2021-04-08 16:10:35,421 [INFO] Base - Searching for app id\n",
      "2021-04-08 16:10:37,503 [INFO] Base - Initialised: AppStore('id', 'zalora', 624639017)\n",
      "2021-04-08 16:10:37,504 [INFO] Base - Ready to fetch reviews from: https://apps.apple.com/id/app/zalora/id624639017\n",
      "2021-04-08 16:10:44,242 [INFO] Base - [id:624639017] Fetched 7 reviews (7 fetched in total)\n",
      "2021-04-08 16:10:49,650 [INFO] Base - [id:624639017] Fetched 17 reviews (17 fetched in total)\n",
      "2021-04-08 16:11:10,727 [INFO] Base - [id:624639017] Fetched 17 reviews (17 fetched in total)\n",
      "2021-04-08 16:11:16,704 [INFO] Base - [id:624639017] Fetched 17 reviews (17 fetched in total)\n",
      "2021-04-08 16:11:22,087 [INFO] Base - [id:624639017] Fetched 17 reviews (17 fetched in total)\n",
      "2021-04-08 16:11:27,476 [INFO] Base - [id:624639017] Fetched 17 reviews (17 fetched in total)\n",
      "2021-04-08 16:11:32,803 [INFO] Base - [id:624639017] Fetched 17 reviews (17 fetched in total)\n",
      "2021-04-08 16:11:52,454 [ERROR] Base - Something went wrong: HTTPSConnectionPool(host='amp-api.apps.apple.com', port=443): Max retries exceeded with url: /v1/catalog/id/apps/624639017/reviews?l=en-GB&offset=2000&limit=20&platform=web&additionalPlatforms=appletv%2Cipad%2Ciphone%2Cmac (Caused by ResponseError('too many 429 error responses'))\n",
      "2021-04-08 16:11:52,458 [INFO] Base - [id:624639017] Fetched 17 reviews (17 fetched in total)\n"
     ]
    },
    {
     "name": "stdout",
     "output_type": "stream",
     "text": [
      "[{'date': datetime.datetime(2021, 4, 2, 13, 40, 16),\n",
      "  'isEdited': False,\n",
      "  'rating': 5,\n",
      "  'review': 'Sudah 4th saya kenal zalora suka dan puas belanja di zalora '\n",
      "            'selain brand favourite saya ada disini, barang2nya cukup lengkap '\n",
      "            'jika di storenya ga ada,di zalora ada. Pelayanannya juga ok '\n",
      "            'pernah komplain barang ga sampai2 krn miskomunikasi, proses '\n",
      "            'refund sesuai yg dijanjikan. Terima kasih Zalora.id sukse '\n",
      "            'selalu👍🙏🏻',\n",
      "  'title': 'Zalora.id trusted online shopping',\n",
      "  'userName': 'erni rahmawati'},\n",
      " {'date': datetime.datetime(2021, 4, 5, 10, 49, 14),\n",
      "  'isEdited': False,\n",
      "  'rating': 1,\n",
      "  'review': 'Ukuran gak fair selalu kekecilan hati2 aja review jujur '\n",
      "            'pengiriman lama',\n",
      "  'title': 'Jangan Beli Baju atau Celana Disini',\n",
      "  'userName': 'fck zalora'},\n",
      " {'date': datetime.datetime(2021, 4, 5, 1, 28, 15),\n",
      "  'isEdited': False,\n",
      "  'rating': 3,\n",
      "  'review': 'Knp ya?',\n",
      "  'title': 'Kok ga hisa dipencet aplikasinya ???',\n",
      "  'userName': 'rosamelly'},\n",
      " {'date': datetime.datetime(2021, 4, 4, 7, 2, 29),\n",
      "  'isEdited': False,\n",
      "  'rating': 1,\n",
      "  'review': 'Tiba tiba subscribe email newsletter setelah kepencet reminder '\n",
      "            'stock (u guys one wrong click away), dan susah sekali di '\n",
      "            'unsubscribe sampe sekarang tidak ketemu baik di email atau apps '\n",
      "            'nya. Yasudah, di block dan uninstall',\n",
      "  'title': 'Tiba Tiba Subscribe',\n",
      "  'userName': 'Ravravndr'},\n",
      " {'date': datetime.datetime(2021, 4, 3, 21, 25, 22),\n",
      "  'isEdited': False,\n",
      "  'rating': 1,\n",
      "  'review': 'your prize after discount is higher then the price at that brand '\n",
      "            'website. ✨👎🏻',\n",
      "  'title': 'bad app',\n",
      "  'userName': 'JasonGanteng'},\n",
      " {'date': datetime.datetime(2021, 3, 31, 10, 6, 55),\n",
      "  'isEdited': False,\n",
      "  'rating': 5,\n",
      "  'review': 'Belanja mudah dan tdk ribet.',\n",
      "  'title': 'Great',\n",
      "  'userName': 'Esther Christ'},\n",
      " {'date': datetime.datetime(2021, 3, 30, 17, 6, 39),\n",
      "  'isEdited': False,\n",
      "  'rating': 3,\n",
      "  'review': 'Halo.. ini gaada fitur tanya tanya dgn seller?',\n",
      "  'title': 'Gabisa chatting dgn seller',\n",
      "  'userName': 'whatacat'},\n",
      " {'date': datetime.datetime(2021, 3, 24, 6, 35, 15),\n",
      "  'isEdited': False,\n",
      "  'rating': 5,\n",
      "  'review': 'The best online shopping apps that makes me shop everyday. With '\n",
      "            'the best customer service, return policy and free delivery. Most '\n",
      "            'fave apps!',\n",
      "  'title': 'The bestt apps!',\n",
      "  'userName': 'stfnkrstnt'},\n",
      " {'date': datetime.datetime(2021, 3, 30, 16, 58, 4),\n",
      "  'isEdited': False,\n",
      "  'rating': 1,\n",
      "  'review': 'First time giving bad review\\n'\n",
      "            'Dari 2018 belanja di Zalora selalu puas\\n'\n",
      "            '\\n'\n",
      "            'Tgl 28 Maret 2021 dapat baju kondisi kotor di bagian lengan dan '\n",
      "            'pinggang, ini menurut saya aneh, baju pasti kan datangnya dilipat '\n",
      "            'nah masak iya yang kotor di bagian dalam nya? Apa iya barang '\n",
      "            'display kah yg dikirim atau apa?\\n'\n",
      "            'Intinya saya mau tukar dan saya coba cari info dulu apakah bisa, '\n",
      "            'karena setau saya term n condition ya bisa tukar kalau ganti '\n",
      "            'ukuran dan atau warna baju\\n'\n",
      "            'So, buat make sure aja saya coba cari info dan ternyata ada live '\n",
      "            'chat dan saya coba untuk pertama kalinya\\n'\n",
      "            '\\n'\n",
      "            'First impression:\\n'\n",
      "            'Mau live chat saja sudah susah, masukin nama, email, nomor '\n",
      "            'telpon, nama lagi\\n'\n",
      "            'Dan ternyata response setiap satu pertanyaan saja (bukan satu '\n",
      "            'masalah) lama sekali, rata2 itu 5-10 menit deh kira2, padahal '\n",
      "            'dalam menyelesaikan satu masalah pastilah tanya jawab beberapa '\n",
      "            'hal\\n'\n",
      "            '\\n'\n",
      "            'Soal live chat ya, why so bad?\\n'\n",
      "            'Kalau keluar dari apps nanti live chat ngulang lagi, dari awal '\n",
      "            'masukin nama email nomor nama nunggu lagi\\n'\n",
      "            'Masak iya orang disuruh nungguin jawaban yang setiap satu '\n",
      "            'pertanyaan 5-10 menit, pastilah kadang HP ke off\\n'\n",
      "            '\\n'\n",
      "            'Sesabar-sabarnya orang pasti ada batasnya, saya sudah cukup sabar '\n",
      "            'nungguin HP doang sampe dapet jawaban kalau barang defect (jadi '\n",
      "            'kesimpulan chat yg panjang dan lama dengan CS barang aku yg kotor '\n",
      "            'itu termasuk defect) harus diajukan dulu, konfirmasi akan '\n",
      "            'diemailkan dalam 1-2 hari kerja..\\n'\n",
      "            'Ini sudah 2 hari kerja dan sampai skrg belum ada response.. \\n'\n",
      "            'History live chat jg ga masuk email.. mau follow up kemana? live '\n",
      "            'chat lagi? Sudah saya coba hari ini 10 menit menunggu tanpa '\n",
      "            'jawaban.\\n'\n",
      "            '\\n'\n",
      "            'Kesimpulan: selama kamu dapat barang yg tidak bermasalah belanja '\n",
      "            'di Zalora sangat recommend\\n'\n",
      "            'Begitu kamu dapat problem, i.e barang defect, susah banget '\n",
      "            'kontaknya , banyak berdoa aja..\\n'\n",
      "            '\\n'\n",
      "            'Kapok? iya\\n'\n",
      "            'Belanja lagi? pikir2 dulu masih trauma',\n",
      "  'title': 'Response Live chat buruk, contact pengaduan masalah tidak jelas',\n",
      "  'userName': 'pus2miao'},\n",
      " {'date': datetime.datetime(2021, 3, 30, 9, 2, 38),\n",
      "  'isEdited': False,\n",
      "  'rating': 1,\n",
      "  'review': 'Malas buat ngulang save wishlist, udh kejadian keselian kalinya, '\n",
      "            'kadang tersave kadang gak, setelah close kalo beruntung ter ya '\n",
      "            'tersave kalo gak yaudah gak jd belanja hehe',\n",
      "  'title': 'Wishlist tidak ter simpan',\n",
      "  'userName': 'Duckorn'},\n",
      " {'date': datetime.datetime(2021, 3, 30, 5, 49, 46),\n",
      "  'isEdited': False,\n",
      "  'rating': 1,\n",
      "  'review': '7 hari barang ga sampe”',\n",
      "  'title': 'Wjen',\n",
      "  'userName': 'haunsnd'},\n",
      " {'date': datetime.datetime(2021, 3, 30, 2, 21, 2),\n",
      "  'isEdited': False,\n",
      "  'rating': 1,\n",
      "  'review': 'Tolong untuk proses lebih cepat, ini masak lama banget',\n",
      "  'title': 'Pengiriman lambat',\n",
      "  'userName': 'heningsuseno'},\n",
      " {'date': datetime.datetime(2021, 3, 30, 0, 58, 18),\n",
      "  'isEdited': False,\n",
      "  'rating': 1,\n",
      "  'review': 'proses pengembalian barang sudah seminggu belum diproses karena '\n",
      "            'terpending di drop off store. ekspektasi customer saat '\n",
      "            'menghubungi zalora by email adalah dibantu tracking barangnya ada '\n",
      "            'dimana. malahan cuma dikasi screenshot tracking di website '\n",
      "            'ekspedisi yang bisa dilakukan sendiri oleh customer. tidak '\n",
      "            'helpful, customer malah harus cek sendiri sana sini.',\n",
      "  'title': 'proses pengembalian sulit karena partner pengiriman buruk',\n",
      "  'userName': 'useronlineshop'},\n",
      " {'date': datetime.datetime(2021, 3, 28, 12, 5, 3),\n",
      "  'isEdited': False,\n",
      "  'rating': 1,\n",
      "  'review': 'saya ada beli barang yg no return dan salah kirim barang.. susah '\n",
      "            'komunikasinya ga ada chat complain.. ga kaya shop online lainnya',\n",
      "  'title': 'Respon kurang',\n",
      "  'userName': 'iwit edi'},\n",
      " {'date': datetime.datetime(2021, 3, 27, 17, 20, 10),\n",
      "  'isEdited': False,\n",
      "  'rating': 3,\n",
      "  'review': 'Knp setelah install ndak bs d buka ?? Pdhl koneksi data saya '\n",
      "            'stabil ..terima kasih',\n",
      "  'title': 'Cant open app',\n",
      "  'userName': 'yessie23'},\n",
      " {'date': datetime.datetime(2021, 3, 25, 16, 10, 34),\n",
      "  'isEdited': False,\n",
      "  'rating': 3,\n",
      "  'review': 'Pengiriman ke Kalimantan mahal banget ongkir nya saya mau beli '\n",
      "            'kaos nggak jadi karena ongkir nya mahal saya kira gratis 😭',\n",
      "  'title': 'Plis kasih gW gratis ongkirrr😭😭',\n",
      "  'userName': 'post malin'},\n",
      " {'date': datetime.datetime(2021, 3, 24, 12, 36, 22),\n",
      "  'isEdited': False,\n",
      "  'rating': 1,\n",
      "  'review': 'Gimana zalora? Baru kali ini sih begini, komplain via live '\n",
      "            'chatnya juga ribet banget. Masukin namalah, masukin email, nggak '\n",
      "            'ada respon juga.',\n",
      "  'title': 'Barang tidak sampai, status terkirim',\n",
      "  'userName': 'tiarapd'}]\n",
      "17\n"
     ]
    }
   ],
   "source": [
    "indo = AppStore(country=\"id\", app_name=\"zalora\")\n",
    "indo .review(after = x)\n",
    "\n",
    "pprint(indo.reviews)\n",
    "pprint(indo.reviews_count)"
   ]
  },
  {
   "cell_type": "code",
   "execution_count": 32,
   "metadata": {},
   "outputs": [],
   "source": [
    "lst = []\n",
    "rating = []\n",
    "for a in range(indo.reviews_count):\n",
    "    lst.append(indo.reviews[a]['review'])\n",
    "    rating.append(indo.reviews[a]['rating'])\n",
    "df4 = pd.DataFrame({'review' : lst, 'rating': rating, 'country': 'id'})"
   ]
  },
  {
   "cell_type": "code",
   "execution_count": 33,
   "metadata": {},
   "outputs": [
    {
     "name": "stderr",
     "output_type": "stream",
     "text": [
      "2021-04-08 16:11:52,486 [INFO] Base - Searching for app id\n",
      "2021-04-08 16:11:55,355 [INFO] Base - Initialised: AppStore('tw', 'zalora', 624639017)\n",
      "2021-04-08 16:11:55,356 [INFO] Base - Ready to fetch reviews from: https://apps.apple.com/tw/app/zalora/id624639017\n",
      "2021-04-08 16:12:14,630 [ERROR] Base - Something went wrong: HTTPSConnectionPool(host='amp-api.apps.apple.com', port=443): Max retries exceeded with url: /v1/catalog/tw/apps/624639017/reviews?l=en-GB&offset=0&limit=20&platform=web&additionalPlatforms=appletv%2Cipad%2Ciphone%2Cmac (Caused by ResponseError('too many 429 error responses'))\n",
      "2021-04-08 16:12:14,633 [INFO] Base - [id:624639017] Fetched 0 reviews (0 fetched in total)\n"
     ]
    },
    {
     "name": "stdout",
     "output_type": "stream",
     "text": [
      "[]\n",
      "0\n"
     ]
    }
   ],
   "source": [
    "tw = AppStore(country=\"tw\", app_name=\"zalora\")\n",
    "tw.review(after = x)\n",
    "\n",
    "pprint(tw.reviews)\n",
    "pprint(tw.reviews_count)"
   ]
  },
  {
   "cell_type": "code",
   "execution_count": 34,
   "metadata": {},
   "outputs": [],
   "source": [
    "lst = []\n",
    "rating = []\n",
    "for a in range(tw.reviews_count):\n",
    "    lst.append(tw.reviews[a]['review'])\n",
    "    rating.append(tw.reviews[a]['rating'])\n",
    "df5 = pd.DataFrame({'review' : lst, 'rating': rating, 'country': 'tw'})"
   ]
  },
  {
   "cell_type": "code",
   "execution_count": 35,
   "metadata": {},
   "outputs": [],
   "source": [
    "df_row = pd.concat([df0, df1, df2 , df3, df4, df5])"
   ]
  },
  {
   "cell_type": "code",
   "execution_count": 36,
   "metadata": {},
   "outputs": [],
   "source": [
    "df_row.to_csv(\"full_ios.csv\", encoding = 'utf_8_sig')"
   ]
  },
  {
   "cell_type": "code",
   "execution_count": null,
   "metadata": {},
   "outputs": [],
   "source": []
  },
  {
   "cell_type": "code",
   "execution_count": null,
   "metadata": {},
   "outputs": [],
   "source": []
  },
  {
   "cell_type": "code",
   "execution_count": null,
   "metadata": {},
   "outputs": [],
   "source": []
  }
 ],
 "metadata": {
  "kernelspec": {
   "display_name": "Python 3",
   "language": "python",
   "name": "python3"
  },
  "language_info": {
   "codemirror_mode": {
    "name": "ipython",
    "version": 3
   },
   "file_extension": ".py",
   "mimetype": "text/x-python",
   "name": "python",
   "nbconvert_exporter": "python",
   "pygments_lexer": "ipython3",
   "version": "3.8.3"
  }
 },
 "nbformat": 4,
 "nbformat_minor": 4
}
